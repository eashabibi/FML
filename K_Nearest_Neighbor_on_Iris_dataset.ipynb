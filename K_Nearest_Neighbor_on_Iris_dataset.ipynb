{
  "nbformat": 4,
  "nbformat_minor": 0,
  "metadata": {
    "colab": {
      "provenance": [],
      "mount_file_id": "1iFJovxu1tOKxm3Gitt_Eurdjp80HWvSn",
      "authorship_tag": "ABX9TyMFRhzL00VPc0gUXotimIp7",
      "include_colab_link": true
    },
    "kernelspec": {
      "name": "python3",
      "display_name": "Python 3"
    },
    "language_info": {
      "name": "python"
    }
  },
  "cells": [
    {
      "cell_type": "markdown",
      "metadata": {
        "id": "view-in-github",
        "colab_type": "text"
      },
      "source": [
        "<a href=\"https://colab.research.google.com/github/eashabibi/FML/blob/main/K_Nearest_Neighbor_on_Iris_dataset.ipynb\" target=\"_parent\"><img src=\"https://colab.research.google.com/assets/colab-badge.svg\" alt=\"Open In Colab\"/></a>"
      ]
    },
    {
      "cell_type": "markdown",
      "source": [
        "#K-Nearest Neighbours \n",
        "  * K-NN is non-parametric and lazy learning algorithm.\n",
        "  * Non-parametric means there is no assumption for underlying data distribution (model structure determined from dataset).\n",
        "  * Here K is hyperparameter(given by users).\n",
        "  * It does not need any training data points for model generation.All training data is used in testing phase --makes training faster and testing slower(because given points for training is not used just stores,only used when only new data prediction) and costlier.\n",
        "\n"
      ],
      "metadata": {
        "id": "QMCv9UP4D3H7"
      }
    },
    {
      "cell_type": "markdown",
      "source": [
        "# K-NN works:\n",
        "![knnrealcopy.png](data:image/png;base64,iVBORw0KGgoAAAANSUhEUgAAAYkAAAEsCAYAAAA2DE/gAAAAAXNSR0IArs4c6QAAAARnQU1BAACxjwv8YQUAAAAJcEhZcwAACxMAAAsTAQCanBgAAFmTSURBVHhe7Z0HfFNVG8bfLgrdQEtLy95LtuwlIChLEBAQUVFBQQVx4EBlKOJCZSoKMhwgS0WGOIAPEBSQvUvLaKGli+7d5DvPySkW6EjbJM1N3v/Pa3NPbtI0JOc5550OegExDMMwTD44qp9WTVZWFsXHx6szhmEYxlJoQiQOHz5MM2fOJN70MAzDWBZNiMTy5ctp48aNFB0drUYYhmEYS2D1IgFhWLNmDYWFhdHOnTvVKMMwDGMJrF4ktm7dSklJSdLUNHfuXMrMzFT3MAzDMObGqkUCwvDFF1+QTqeT52fOnKGTJ0/K2wzDMIz5sWqRgCAcPHhQnRElJyfT999/r84YhmEYc2PVIvHtt99STk6OOjOwYsUKiomJUWcMwzCMObFakUhLS6Nly5aps/9AvsQvv/yizhiGYRhzYrUi8cMPP1BsbKw6+w/sLBYsWHDTT8EwDMOYD6sUiezsbFq1apU6u5Njx47Rvn371BnDMAxjLqxSJM6ePUt79uxRZ3eCXcTKlSvVGcMwDGMurE4kIADz58+Xu4nCWLt2rYx2YhiGYcyH1YnEjRs3aPv27eqsYBITE+m7775TZwzDMIw5sDqRQIb1lStX1FnhIGfi9hBZhmEYxnRYVT+J9PR06tq1Kx06dEiNFI6DgwOdPn2aGjVqpEYYhmFKSM4FoqRf1YnAfSyRi7s6AfHiP1gvvIi8R4kJyNkwbO1k/kWUekTc8FGv28kwbiRWJRJHjhyhTp06SbEwlnHjxtGSJUukYDAMwxQbfSpR7CNEN34Rt/P4Qh1cxLw6j6jyeCJHTKzBROcbip91ieodE2Nu8jLrRvw9UQOEuMGEL+bIqpeIPGsY7jISqzE3QavmzZtXLIEAME/BP8EwDFNs9GK+iepDFPejQSDK9xQ7iPuIKrQW51lCOJ4T9/2kLtYg+lii5D+EPngazhO/NvwsBlYjEteuXaNff82z1TOSq1ev0s8//6zOGIZhikGmmECT/hY3yhH5iZ1E9d+JgrYRVdtLVGmwmFxdidJ3i8nWcPkd6K4TRYvrQmv+dyQeFtfnJvsKoUnfQnQpz/3XZogFfoK6X5ATJnYyT+V5jjZEqfvFc+Txt+qihWBNJbqorrm+QDwuRd1ZEOJFJ4udULZ4Hp+3xd8ipnu8lpziLcStxtyEcNbjx4/fkUk9Y8YM+vPPP+VtLy8vaVqqVq2aPM+lSpUq1KBBA3XGMAxjJHFDiWI2EjmJ3USd7dIicxN9vJjjI4hcGqvx28xNDpliwhePS/mXyFnMSRCUbHGNvoIQnN+IKnYRE9scoggxQTv6igOreTGxZ10TO5YhQojWiceI84ju4rqT4vfUxi8xiAZm5SpCqLyFYJCY1CP7CfERYiWvEZN+9hWha+L5g8Rrdha/Nz/0yeL1dRO/8gxRzRghRHeL3xNC5L9PPa9xWM1OwsPDQ/ojunTpcsvh5+enrhDvj4sLtW3b9o5rWCAYhikRmar1gGvHWwUCOPiIiThXIPLDWaxcHxXXdBA7kFNEtc+LyfceMZ4mdgKoXi12EUnrxWQtptlKy4hqiWtqih2Ca3MhIOPF84oFsU4IQtpRMRO3E88hHoPnCJguRGS0uK6i/C2UtkIIxE4xJgSt5jlxzWnx+AeIMv4iii/EFKYTgpAufqfLg+K53Ik8R4pBIWyJqwwiZCRWIxIMwzBlhkN5daMYOHiIifc5MfmLFT+ioNK3iolbtViGrwPTq0uQ+Ckm5uj+RGFiko9+l8h3g3hcX/F4F3GIx2GHoROr+4tCkK6PE6IgxCNosRCFOuKxEJoteEaDySn6GXHNJPGUqISdLcRI7GIKInWN2HSIx7tDuAQV7he/r5x4rNjlZBvvx2WRYBjGfnGsZPiZddHwMy854WKl/oWYnAuq/iDGk8T9V+oSnRdT6RUhBGl5m6I5iR3EIiEIYqcB0n8hSviK6Gp9osuPi+dPFr+/BlGVeWJTIoRCHyHuX0p0YxpRSIDBmY4lv15148wUuwk8HkfybjUWbPh5O3ohIjfWihvidWWLnUrcHLGDEGKDGT9H/K1pBTwuH1gkGIaxXzyfEKtr8TPrG7HyFqKQl6QZRFETxAq/o3QD3EGWmKivvyB2DylEXk8TVRMTr79Y5efFsTpRVbFLaCCeAKG03qPF7xPikbFKPP85XGDIx6gTT1TzD3G/uMa9nZjkbwiBelVM8OJxWP0DLyFIeJ68R72NhvtuJ+uEEJBQcUNckyyEKuYNccwUpxCcDPHc30v9MQYWCYZh7BfXIQazjj5NrPDFjiB2uZi814kJdYwQCISLignaa4rcFNwBku90YsJ1aCh2AwuIKlQWE/IOdadAH00U1ogo2Es8l3jeykuEiHwpRKCVul9M2PA3XHAT1zQXzyMOf3GNn5jMHV3F/QjiEVO05/2G69O/E6IhXifG0reL47K4XYDDJBk7IPHTWwhE/dT/jhpiN4Mop4wfxCF2LkbAIsEwjP2CqKOqQhTK1zJM2rFiZxHxEFHct+JOFzGhDyWqNMJw7e04ixW/UwUxGe8lCq0qDiE26WIHgIlbB3OOeO5Kz4nTbLFyn0gU4icOsbNIRjRUDyKPJuL3Pih+YudwiuhKfcM1V8Tv1Inn8BA7CUQuVXhSCFVXsTPYQ3RJPB7XhA0kCr+b6Mbv8qXcgk6IRwLEylO8/s7i94vXmHuUayFes7f4fdfE6zCusgWLBMMw9o1za6JqYsIMFLsBV7HKl4eYlIMwtkpMqrnbCDFhy/vE5I6p01ms/KvtJHJrKfSkhpiTXySq/rOY+NuKCTlJTNZi1e8+gajmMXFfF3G9mOCda4oJ/22xohfXuYjJ2kHsMvw3id+zWJwLkcE1LuL1BP0jdidCsCTi9/pvIQp4X9wnxAzXlO8rrtlN5NNLXZOH7FDxmsXrqdBJXNdMDSocq4nHPCCeUrzmjMNqsHCsqixHfowaNYrWrFkjb1euXJn+/vtvqlevnjxnGIZhzAvvJBibBGsfVAjOysqijIwM+RMgWROJm0lJSbKcC47c+/AT47g/JSVF9lnPXUPhuax8PcUwZoFFgtE8mLyvX79O//77r2xWhQl9zpw5NGbMGBo0aBD17NmTXn75ZSkQFy5coPr161PFihXJx8eHvL29ZT91sHTpUpm8iYx+XNO6dWspFOCVV16RxSSnTp1KixYtMrpSMcNoHTY3MZoBAhAaGiqz8wMDA2nXrl1y0j5z5ozcLWBix+fD09OTPv74Y9nACiVbcsu2YNLHc0RFRcnnc3V1JUdHR1nuxdnZWQpCTEyM/ImdRGpqKnXs2FFe88UXX9C5c+fk/dejrlOfe/tI4UEpmSFDhlCTJk2ocePG8sA5BIhhbAEWCcaqwa5g4cKFtGXLFvlvj4n93XffpaeffloWhfznn3+oWbNmVLNmTTnRY0I3J3m/LihPD3E6ePCgLHN/9OhRiouLo08//VS+npkzZ1JYWJjskdK8eXPZ98TNTQvlpRnmP1gkGKsAH0NU9D116hT98ccfcuJdv369NAu99957VKlSJerRowfVrl1bCoXTzYgT6wKilitUBw4coJ9++kn+LZcvX5a7jR9//FHuZtAsCzsfd/e8TW0YxvpgkWDKDJhzMGHC3IOdAnYHvr6+1KpVKxo5cqT0JaCoo9bB3wjzFXwiED0I4YMPPkgJCQnUr18/evjhh6lbt25UrpzKrGUYK4JFgrEoEIaQkBBavXq1XGUPHTaU3pn1jowogq8A/gP4HGwZ7DZiY2OlfwV92vfs2UO7d++WfzdMVvC3wIFubtMZkwcxC6Zfy6Cr31yjsH8MtZKc/ctTkykB5FPP1dCYThC39Tqd+CqePFqJxczbla038icrh868fpmuhxgi926hnDPVfyWQAlpWICcjOrCySDBmBytp2O9hIpo0aRJt2LCBWrZsSWPHjpXl4TEp2jNwlJcvX56SU5Kpb5++UkDgw5g4cSJ16NCBKlSooK5kzIJOT3G/RNK/H8VQRtKt06FDOUeq+kx1ajnWW4g2UfSaq3RgTix5dfanTov9863WYRVkZdORRy/Q1dOqOOBtODg7UI3X6tBdw4s2d/JShTEbaEW7bds2euihh242joJI7N+/nzZv3kzDhg2ze4EAEAGIqKeHp3yfEIpbo0YN+b7BLwOw+7i9IRdjGjKO3aBDc6KlQJSr70Gt5tSgVu/XoGptnEmfpaOIJeEUfiyfFXkedJl60mWoI+vOdbc+J8/94shvaV7Uc4Cb14ifRi3vxefK/yF/+ffkHvLvytbTtRWxKPVXJCwSjMlBxA9CUNEg6vHHH5eRPnXqoDY+yV0gJkBMisydQDAQDTV37ly6ePGi9F2Al156Sb6Xf/311y0RVkwpEeIbuiSaMtOIyjetRD3W16Ggfj4UdL8PtVhQnwIbO5NHO29ydS5AoIVwR6yJol29T9DWdobjt/7n6eJvqTeLrGaeT6QjzwTfvH9ru1N0eEEUZaaoK8ROJnJjJP2vx3/P8Xu/ELqww5Cjk0vMluu0p/dJwzVdTtOJz6IoPVXdWRAoAdXcU/49uUf9SVVQlYr0KdmUXbj2SVgkGJNx/vx5udpFKComuFdffZUuXbokQ0LZRFh84KPIjX6CUx8CMnjwYJm7UZJ+8Myd5NzIoujQTLniDhxRCTVfb+Lg7kKtVzeh7gurkf9drmr0VpL/iaZjcyIpNbsc1RjlS9V6eVBOVAadmh1OSdE6MRFn0ZFpYXTtQCYFPOhLtcU1les6UMSySDq6MkkKSdqe63RoZhRlV3GjWuL+moO8SXcjlc7PuEwxV3Lk70ndE01/T7tOGe7lqeZIXwrqUI7CVkTSgWnicfKKAhC/IGF/Al1cHaOOaDoxLZKynBwpcGIVEn9ikbBIMKUCooBcBZhG2rdvT8dPHJe+B+Q2IOOZ7emmAUl6SOiDs/uRRx6hzEyDrTkyMlIm+DElQy9mWGnacXIgt8DiR9J5tK9Cd88IoCbv1KDmrwVSy9mB5Okilu/x2ZScrqOc1ExKjxATvZcr+XbypEavBlKrj2pQ/edqUOunvcRCX0/xRw07BrcG7lR1iB/dNas6NR/nR+2+r0eVqzuJF6mj4CVR4qcjNV5Ul+56XTzHB7XIr64zJe2NosgThciE2HXGbImmU+9fU0cExYTryPNeX2pwv3Hh1ywSTIlBRBLMIUOHDpWhnSdPnqTmdzWX97E5yfRIv4WnJz333HM0cOBAOfb111/LZEKYp1CahCkpBfsBCsXRgSoN9KWK7jkUtTeJ/n0yhJIyDc+D/zt5uJJ3AyE+iWl08pVL9HuXU7RrUiR5iAne8PscqGIXT0Kk943tYrfwyDn6tcsZCr3iSA7xQlzE10ivy6CEk9hR6OjkmDP0a+dT9Gvv8xRzKVv6FpKv5O+czsWtgRtVEb8j9/Cu5kRJ26Noz/gwSk0t+m9mkWCKBSKVjh07Jp3S2CU8+uijMmns888/p6CgIA7btBC5Ivziiy/KcOJ169bJnRx+MsbjWN6BXNzEZ1YsxhPOoS91XvQU9kEo7Z8dTUkR+a/W04MT6K8hZ2n/hIt0YPJlSnUqR055vgIOFZzprrn1qO4DHuRVy4Wyk3MoOzyNjrx4UTzmGmWIub9868rUZVEQVWzuRuXK6eQ1CZuv099PhFDIXsNrMrihxG6nlit51jEc3k3dqGIzN9lyokCEiFV9NJDaLar93zGvBlXwcqCM84kUebho1zV/oxmjgLMU+Q2jR4+Wq1gIBcxK2EkgQonFoWxA6Ow999xDO3fupCVLlsgsbhAdHS13ekzhOHq7UFCb8uKWniKXR1NsZK4Y6CnlaBKFbEmh2HWRdOVAfpOpji5/dJ3ir+RQ5VGB1G1tA+qyvIbB3KTQp2ZTeqKOajxZjTp9V09cU5/avulHTg56Sr2STOkxOsq4nkUU4EFt5tWmrmsaiGvqUmAdF9JnZNP1f9LEgsCZylfBczpS/Q/qUOdv6uU56lK93sUr9eIghAMdVI2Fv9lMkSD8EqUxkBUMH8Rvv/1G7dq1U/cy1gB2dX379pX5J/j3eu211+jee++V4cY4ZwrAwZGqjQ8k7wAHyklIoX+GB9M/YleAY9+4y5ScoCcXfw+q0TO/iVhP2amIetJTRrKOyldypOh1MRSvzE1oH5odlUr/PHyOdg4Kpgs7MsRk70Ll/ZxlB1EHV0dyciG6vjJc3H+Odo8Lp2w3CIILuXobpuZyPmI2d3Ahf/n7cyj4owhKi86mtNBUOvrGZYo+nUm6wv55dXqKWHnt5t+E4+/nxI4nTk+Obk5id1PYNsQAiwRTINg94IBpAxnAK1eupLVr18pCdexzsF6ww/vwww+pV69e1KdPH5mUh4q4TP44V3OjNh/WpEq1nUiXlEXR+5LEkUwZYrIv5+9OLRZVI0/P/D7vTlRtnA9h45D4cyT91uM0HfgwgXw7YuLNocRLOnKp7knNnqkoRCGHLrwZIq/ZOzmCsp2dqe7zgeQuhKX6U4FUpZkLZYYk0K6ep8U1Z+nikQxybeRDjYZ4wMpENZ6uRgFNnShpVyz92fs0/TnkAoVvTaDj86Io/bYEwNtJDU5Vf5PhSLwqVMXFiWpMCKJK1Yr+HnPGNZMvMC0hhBUTzYQJE9QoozVQJ2r69On0+uuvU5s2bdQoUxDRW6Ip7pJhae7iV4FqDvUWoitPJSknEil8dyq51vCgmgM9MH9Tyr83KPxvgznKf0QAuUQk0NXdaeRSx5Nq3e8ur8kJT6ELPyfJa7A29x/hSz6+t67RY7ZGU+xFw+929i1PtYb53PK7sTWJ+C6aEuMNU7ZLIy+q06sAU1OOuHZDLCVG57/N8O7lSwGNjKjJIWCRYG4BDunFixfLMtfoi4CkOBTdY7RL7m4QPopZs2bJpDxUpGUYY2BzE3MLKDi3YsUKWXwP4ZUsENon1zSI4AJUo0W9LJijcrvuMUxhsEgwcrLYt2+fvI1ELSTHIWKGI5ZsCzQ8WrBggSzLvmrVKlmmHCHNDFMYPAvYOej5PGDgAHriiSdkfwP0NOAsadsFwt+5c2dZAwp+Cji5kb3NYsEUBIuEnYJQVpiUEP0S4B8g4+y9vb3VvYytg39r/NvDFIX8CgQnoPUqw9wOi4SdgtXj/PnzZTw9fA9Vq1ZV92gUXQLRtWHiGJz/ceNTcU1RJTPtk/vuu08WZxwwYICMhrLyWBbGwrBI2BmIl4eJCZm6qCQ6fvx42TNau+iIop4nulCRKHmDOH7O/4h+kehyc6L4+epxTC7I0t66dat0aPfu3Vv6pBgmFxYJO+Ls2bPUvXt3+uyzz6S5SfM9lfViZ3ClvZj4F+LEMFYYWSFCUCYLpZyrBphcUJIcEU/Lli2jpk2bqlGGYZGwCyAImzZtoi5dusi6S/PmzdN+5BLMSxCI9ENqoBhEv0IU9546YXLBZwIRT6g0e/z4cVn+PT4+Xt3L2CssEnZAVFQUvfLKK3IH8c4778iIFk2TE2cQiIyTaqC4iF1HzJvieEudM7dTu3ZtGe2GUGg0kGLsFxYJGwb5D2gl6u/vTwcPHpQVXG0i9yH5R6LMc+qkpAihgNkpO1ydM3nBbgLRbx06dJCFA8+dK+37zWgVFgkbBWYCiML7779PCHP08vKSPynjRMFHdqR6tBWjSxI7gGnqpJTo04RQzFMnzO0gXwamyckvTCYXdMVh7BIWCRsE8e7oFoe2lk899ZQY0RFlXSYK62aI8CnouHI3UewMgznHWknbLV6fCTuw3fhY3WDyA8ENz058lurUqUOxsbG0d+9e6eNi7AcWCRsDtXlQmA+7hh9//JGCgqoa7O8Xa6HjurqqAGB6iZ0pBKOFmIi5bzJzK6dPn5afre+++45zKewIFgkbAzkP6BYHezKq5lLM22JrMUfdayQQiyttWCiYW0B0HLKzJ02aJGs/MfYBi4SNgCS53bt3k7OzM02ePJk8PDwMO4i42eqKYpJ1RewoWgrBiFADjL2D3SkWIKgU/MILL7Az205gkbAB0M8Y8e2ffPKJGhGkbCl9LkD2VaKwzuqEYQzcf//9snxHgwYN1Ahjy9imSCB+/vozRBe8Cz4wiRqTpWvlwJk4fPhwqlixorQV3yTyCfE/E/x9cHgnb1InDGMgMDBQ7iyQoY3S4+yjsF1sSyT06YZibmEdiBKWEOkSCz6uDiAKrS4E5ah6sPZAlMnLL78sTUwwAaC0giR5PVFOtOF2qVG1kRgmH1BN9sknn6Q//vhDjTC2hu2IhBSIoWKC/FnMaylqsAikOaW7ZoUCiXHvvvsurV27lnx8fNSoQFY7NeHKTmdFIbEVuhE5+asTE1DxJXWDKQnwUbz55psy1BoJm4ztYRsioc8UAjGcKGWrGigG2FWE3SOE4rgasH5ycnJkeW84q4OCgqhSpUrqHjvA0ZPId6Y6KSUO5Yl8eJdUGrBQefrpp+nxsY/LxE18NhnbwjZEImKkEIjN6qQE6OINO4rMM2rAuvnu++9o2rRp0mFtl3gMIXKpqU5Kgc8zpnkeOwfZ2G9Oe1OGxaIuGPsnbAvti0TmKSEQv6qTUgChiF+kTqwX1Pp//rnn6YsvvrDf6BKnKkQ1DonZqY4aKAEVXyDy+1SdMKUFQgGf2KVLl+jVV1/lHYUNoX2RuDGfZA0eU5D4jRCd8+rE+khPT6eRI0fSW2+9RYMGDVKjdoqTL1HNI0TlGqmBYlDxFRYIMwFH9i+//CL9FLyjsA20LxKJK9UNEwD/RLr1duVCNvXmzZvpxRdflOGHdo+jlxCKo0SeI9RAEThXI6o8QwjEB2qAMTUIxd6wYQMtXbqUVq9ezUJhA9iGT8LGQbnv3377Tf5E17Aiy307BxI5OKsTE1CumbphhTi4ElVdQ1Q3lsi9H5Fbn/wP3zlEtc4IkZiOBxkey5iFJk2aSJGYOXMmJScnq1FGq7BIWDnIhYD/4ZlnnpFNYIzCrbeY2E3UgtKhnJhgS1jaw5I4VSIK2kJUbXv+R6XXxKfdQ13MmBt0QNy1a5ehPAyjaVgkrBw4qj/44ANasGCBbB5kNH6fmGY34dpCiE5PdaJtILjIUI+MjKTw8HDpZE1KSpL34WdoaKjswhYWFiavyXW+ZmVlsdmkmGC3W7VqVUpNTaUVK1bI95DRJiwSVgzyICZMmCAzWlEvp1hgYvdDQ51StCp1bSZW52IVrjEwMQUHB8skQzhQ3377bTnJX79+ne677z7q2LEjtWvXju6++25pPwfw9bRu3ZratGkjx/v06SMFBSCrffDgwfTaa69JOzvEBeA5WTwKB71Npk+fLt9nfq+0CYuEFQPn9COPPCJDCkvUdtRnohCKueqkmJRrQFR9r9CYimrAesEuAKXRMSGBKVOmSLv47NmzKSQ05OYODKXTYbrbtm0bHThwgM6ePUsPP/ywvA9N/69cuUIXLlygQ4cO0caNGw2l1gW9evWi9u3by93Fhx9+SF9++aUch1jADAjhQIMn5k6qV68u3zMILd5bRns4CHW3ankfNWoUrVmzRt7Gl/bvv/+mevXqyXNJcHmxpMtQJyYgYBWR1xh1UnZkZmbKrmAm4cZnRNFT1IkRQCBqHBZLCFULygqBMCxcuFBO+Pv376fGjRvLLPS2bdtKsUDMPqLBzElISIicAA8fPkxHjx6V/RawYrarDHgjyM7OlrthmPhQDLB8efGdZTSD9ncSAcvVDRPgHCAE4hF1UnZERUVRy5Yt6fLly2qklCBxrL4QUm+0Mi0E1+bi/VxhiAKyMoHARPPXX3/JVTzs2/AXwHz0xBNP0LVr1+QkDYEAmKTNLRCgbt26sgkPdiX4N3vjjTekOCGip3fv3vTss8/Sjh07ZFSaPYMClJ999pncteE2oy20v5PQ5xCF+hHl3FADpSBoG5H7feqkbMA/ByY+RDL98MMPpm9Ar0fxv4IQv8vBuhrew4yzes1qmj9vvhQG+Ao+/fRT2aQf75U15ovAQf7vv/9KQUMjKLSUxb9l587cmwMkJiWSl6eXOmOsHe3vJByciKquEz9LuYVFPSAriOL59ddfaevWrbRo0SLTCwRwcCvksA6BwK4hty5VREQE/bDmB5ozZ47cLXz++edSIIC1JhTCfwTnN0QC/g3kDDRs2FDeB7HAQsdeo33Qd33QwEHSnMpoA9twXLv1EruAX8SsYZg8ig0Eoupq8XgT+QBKCFbGmFBQdgPhg/YGJk5MoP3796fHHntMnjdr1kyabIYNG0ZeXl6ayjTHa/X09JQRVb6+vnInBNEYMWKEdIbv3LlTllqxJ7AThGkO/iQrN2IwCtuJbkICWdBPxRcKj0GGjF1k7pYxmFQgEii9bG9cvXqVhg4dKg/4Y5AXAvs13hOTOfDLGFRIRc4LRA+mp9GjR980pdoL8Nl89NFH0uEPnxJj/diOSACUX6j2m/gkDih6VwDHLHYPVTcUfa0FgJMa0TKofWMWM5OVkmt2QW4DwiWRpYu+BHAKa2nXYCwwReFvg/kMuyY07QEQC5jW7GF1jX7s3bt3p/nz56sRxprRvuO6INIPEqXtVif5YEUdyWByGDJkiLRbIwrEHoDf4dtvv5U9CGCnRvVQewXvBT7ne/fupRkzZsjABVtfKMTHx8tdhT0tiDQLRMKaGTlyJERMHkIk9MHBweoe22HTpk36gIAAvdhNqBHb5syZM/o+ffro69SpoxdCodfpdOoe+wXvwcaNG/VioaDv2bOnPjw8XN1ju+BvPnHihF4sktQIY43YlrlJg2BFhWxUlI6oUaOGGrVdkOiGEiMwuRw5ckTa5W3RrFRc8B5gN4nQ2QEDBkizI7Dl5j0I88bfKhZJaoSxRlgkyhjkAaBmEMpv2DJIeEMtJCS6IcIH0S2IVmJuBSYYlBVxc3Oj48ePU48ePaSvyhbx8fGR5cSxQMotqcJYHywSZQz8K7DLI1TSFtHpddLW3qlTJ/rqq6/kGHxLJapFZWfgs4EQYAgFylkgSc/WgOMeUWzffPONGmGsDf6mliFwyKPoma0675AwtXDBQho+fDg999xzcoXMGA92E4gAevfdd2n8+PH03XffqXtsByyOEBaM+lv2mmBo7dhudJOVg4qiLVq0oPXr11PXrl3VqG2BWkswo6HyKpKo2PdQclBEENVsg4KCpJ8CORe2Qq7fxZb+JluCdxJlBIQPzluUb7A18KXH2gM9G1D8rm/fviwQpQR+KwgEspUnTpx4s9eFLQBxwOdjz549XHLdCmGRKANQ5hoJY3DY2VrZZDggBw4aKG3oMKP5+fmpexhTAPs9Ouf1va+vzFK3FZArhL4py5ebsKozYxJYJMoAlCNAk5uePW2jLWguKMqHkMZyLuWks5UxPYgOQ0Oku5rdJcuRo1GSLQD/Czr/zZ07V1bNZawHFokyAD6VefPm2UxNIoB8jwceeEDmesCUxg3wzQd2n8uWLZPlLeCjsxXgt6pVq5ZsHsVYDywSFga1ifbt22dzNnqU70a1UzS9585j5gchxCiSh8gxNDWCSGsdfG4QBYeIPyuPp7ErWCQsCGr0zJo1SzaisRXQhQ3JXugEZ4s+Fmsm1+GLnVu//v1u9uDQMiNHjpQmJw50sB5YJCzIsWPHZLaxrZQCR+VW/C0vvPACr/zKEJTzcKvgJgsDQrS1DBzzuX03bDF5UIuwSFgIfPDRIwEO69y6PFoGX+DZs2fLEFf8XbzyKztQ3gQVdUNDQ2natGman1wRBoumTNxvwjpgkbAQyCaFo/rRRx9VI9rm559/luGKyAKGs5EpWwICAmRrVJj74KPQMsgH6dChg2xVy5Q9LBIWAl9e9Dzu1q2bGtE2Hp4e8u9BwhxjHaDOE0pcIIgA/i8tM27cOLkQgUmTKVtYJCwAVnYocpeWlqZGtAu+tNgV3dv7XpkTwVgfCCRo27atph3ZyNJHvgSbnMoeFgkLEBwcTA8//LDmo0/gnJ46dSo9++yz7FS0YpCrgi6HTz31lGb/nVD479SpU2zKtAJYJCwAnIpt2rSRPZy1zPbt22ndunX0xhtvcKlvKwblUBYvXiybOq1cuVKzkWfw4aFWFaoJM2UHf9PNDOo0/fTTT/Tkk09qOgIIXcRQWO6dd96hmjVrqlHGWkHF5EWLFtHq1as1W4IbEYH9+/ennTt3qhGmLGCRMDPh4eHk6eUpdxJaBhU64RgdO3Ysh7tqBEywiHjSavkX5Ezce++9MsqJ83DKDhYJM9OoUSNZERUhiloGTmpk9tpqgyRbBCZB5OTAJ4Z8Fi2CemAnTpxgB3YZwiJhRnJXP1X8qmh29Y1opu+//16WckalTkZ7/P777zKkNDExUY1oh8aNG8ufp0+flj8Zy8MiYUbOnDkjzUxabhCzdu1aev311zleXcOMGTNG5k2gl7rW8Pb2llVhmzdvrkYYS8MiYUb++ecfmdiEsglaBOUR5syZIxO00MeA0SYIJ/3000/p448/lj4yrdG9e3fy9fVVZ4ylYZEwI2gOg+JrWrXjo2cBBG7w4MFqpBRkRxIlf08UOYrokvjCX/AkChHiGd5WqNHrRBl/E+nT1cVMkejFWxadTQkn0yh6XxJF7UmiG0dSKDUsk3SZdzp50QQKjmwtFgBMTUuV+TlHjx5VI4wlcdBbedjAqFGjpMMUIKwPTVbQtMfaQegrkprgMKxfv74a1Q74WMyfP1/2Vu7atasaLQG6eKLElUQ3ZgqhSBBPXEByl0N5IrdWRL4LiFzFT16/5AsEIP54KoWtj6XIv5JIl6EjXZZe/HuJd8zZgRzLOZBn7fJUY0glCujjTS5eTuqRhqKMWsxvgakMUU5Dhw6V/SYYy8LfRDOBWk0//vijFAotAkf75MmTSycQ2WFEEYOIol8myrpRsEAA7CJS9hNd7S1EBX2OcwzjzE0yorLozPvX6MDzFylsWzxlJeZQToYQCLytQiQgFtkpOrpxMpWOv3eVDk68SAlHU+V9AAKBBDvU3NISCIXFLmjrtq1qhLEkLBJmAiYmbPHRjEdrIHFu+vTplJJail7DORFEkcPFxL9HTFLFKDaXLXYeUc+LrRicrFz6I5f0iCw6PPUKXfoxlrJTi35f9Dl6ijuRSodevkwx+5JuCgXMTQhE0FpIKboe7vtrn+b7ZWgRFgkz8cknn9DZs2fVmbZAyCR2QTnZJVzN67OIYl8nSv1HDRQTXZph95FxTA3YN9lJOXTinXCKPZpS6GYsP9Kis+j4rKuUdM5QXBKF/5o0aaK5SCfsyNG1TothvFqHRcIMwIaK8hVaLNcMXwSiYB577LGSR2Wl/09sRwx+pBKTHSeE5hXxgrTdG8EUhG2Io6j9YgVdQu9hamQmnfksknLEDgTRdsiZWLp0qaaK/+Gz+MUXX1BgYKAaYSwFi4QZQIYrfBJ169ZVI9oBLVYvXbpEjz/+uBopLmImi//MNJN76n6xm/hXndgn6dezKGRVjNhBlFAhFDGHkil6T5K8PWLECGrfvj3duHFDnmsFBIOcPHlSnTGWgkXCDMA52KBBA02GvsIfgRLTJW6xCmd1yi51Ukp0qWJm+FGd2Ccxe5MoPa70Bfrg1L68Ppb0mXrpJ0N1WEQLaglECnIPE8vDImEG0FyoS9cuMipDayBxadasWSUPlcw6Z1oTUfof6oZ9gvyHkpqZbicxOJ3SY/4TnA0bNmgqkx7h2FevXuU6ThaGRcIMwFQz/e3p6kw7nD9/no4fP166WPrsaDGpmdAXk3le3bBPEs+brpshoqIybxiCERDi/P7778sABa3g7u4uc47+/de+TZCWhkXCxMDxi0YpWjQ1wZm5YMGCm4UJS4aJlr25lOq1aJ/UGNMJri5Td0v47EMPPSRLiaNvgxZwcnKili1bcrE/C8MiYWKwFW7Xrp1mvni5QBi2bt1Kw4cPL13FWkeY2ExY8dZZe3kmpsSpnAnfS0cHcvgvAZt69+4t/WdaMTlBJGbPnk2PPPKIGmEsAYuEiTl95rR0DGqt/EHoxVAKCwuTPolS4VxPaIQJm9yUK+XrMQbsVm4/rAT3INO9l06uDuTi8Z9K3HXXXfKzCju/Vqhdu7bme7NoDRYJE3Pq5CmqU6dO6VbjZcCe3XuoW7dupe9i5tJACEUJI6Nux0F8PN37qhMzkJVFaQu/oKSx4ymuRoObR3yrjnI851zZ+0O8m1RQt0qPsxAI18r/BVMgsOLcuXOyMZZWgCl3ypQpmtupaxkWCRMCkw2yrGvVqqU5kUDyHHpxl/p1O3oSeT2pTkqJkw+RWz91Yjr0N+IpffESiqvXjNI+mEtZf94asquLjZXjCfcOoOSnJlD2wbJzlAb19RFaaZrPUtXuXlSu0q0RdzDhIF9CK4l12PnMmzeP+5tYEBYJEzN69Gh68kkTTZIWAhMEauJgwjAJ3s+IHUUtdVJCYDyv+Kp4nppqwDToYuMood9gSp3zMf5wNVoAQvQzt/9BicNHU/ahshEK7xZuVLFp6TsClvNyourDKt/hLrp48aJsjIUVuhZAEyIfHx8KCQ1RI4y5YZEwIViFd+rUSWazagn0EIbJoXRRTXlwDiLye098usqrgRLg1lHMCOPViWnADiFRCIQuvJg2+JwcShzxqBCKw2rAcjhVcKRGk/xv8SUUFwcnB6o9wpc8698ZBFC9enXZmhZVArRCw4YN6ULwBXXGmBsWCROSlZVFS79eKrOWtcTOnTulSJjORCaex+MhIRQflkwoKgiR9V8jHuujBkxD4sBhpLsWoc6KSWYmJT38OOnKIJGrYht3qv9kFXJyLf7XFf+k/p09qfZjvlIsbgd+CQQr4DOgFeA7Y5+E5WCRMCHItJ74zERKSSlFiW0Lg93D3r17qUOHDmrEVIiVr/dEooAVROWMbBKFqCjv0USBPxp2IyYk8/c/SXf1mjorGXrx75s6+yN1Zjkwudca40sNn/aXZiNjQROiqr28qfmsauTsWfDjunTpIj8DWgFJgKg/xVgGFgkTEh8fL3cTfn5+asT6gakhIiKCGjdurEZMiZiYsKOotovI900hFlUNQpDXMA7fg0MFIvfuQhzE7qHKMvEwcZ2JSf90YdE+CCPI2rGLdFfC1JnlcHRxkLuBNh/WpMot3KUAFASCwir4uVDjSQHUYmY1Klex8PIwDz74oOwfYjJzo5nBLgILMsYycPtSE/L3P39Tv/v7UVxcnBqxfjIzM2UvbuwkEJVlVnRJhh4R2cfFNz3boBXOQhBcWggBQYvXgie+0hJXs6FJRAJ4bfuJnJs1VWeWB93nEo6l0tVf4ynxdColX80iXbae3PycybN+earS2Yv8unhS+UBt9lYvinXr1tGKFSto06ZNpgu2YAqEdxImJDYmVnPtSpEXgWYuZhcIgPDYCl2IPCcS+Uwi8haH+3DxIhqIO80nEOmff2UygQApEyerW2WDs7sjVe7kIc1IXdY3oPv2N6V+B5tRj62NqM28WlT9oUrFEgjsftHSVCuF89zc3KTfT0v9MLQMi4QJ6devn+aKj0VGRmqqyJtVoA2rjNEgYAHlLpBYpwUQAgu/H4uEZWCRMCH4smlt+wuH5cyZM9UZY48gwgk74AsXtBFW6uHhIfN6WCQsA4uECUHL0ldffVWdaQMkU6GMCGPf4DOA2l1aAPWb5s6dW/oSMjZCSlgmnfkkgn7vdbrAI+7flBLvgAsUiUOHDlGLFi1k0/SCzBGoGtq0aVN53eHDlk80sjauXbsmWyxqCbzmqlVNH01kTbiOHC4+6aZbD7lNf0Pdsh2aNWsmfRNaAP2uBw0aZPdOa3QbPDotjPY+HEwhK6MpIya7wGPfEyG0a8g5Sr5U/IZgBX5zWrVqRc2bN6czZ87Q888/f0faPsImMY7a7kjrh1DYOxAINJrXErDtVq9RXZ3ZJg4VfchBTCwmwcWFHKtVUye2A77Lb731ljqzbhC2/dVXX8nIPHsF0WzH3gqj8M03KCvRuMTC5IsZtO/RC5RyuXhCUaBIQKXnz58vt6EoJfzyyy/fXGlkZGTQiy++SKGhoTIcdc6cORyKJsCHtnz5kpaiEHtB9HSOeLjgI2WruMyEXd8EH374IT078Vl1Zru4vfWaulU6nFs2J6dGiMayLWC60cp3GPPPc889J8XCHtHriI5PD6er2+LViPFkJuTQX4+FUGq48QJb6B4czfCXLFkieyMgV2H79u0y4QZN1HNzFz766CPy9/eXt+0d1G1CH95ikxNDFDWF6IK72I6sLvi42p8orItYEmxUDyw9iBTx9PRUZ7aL60NDyaFCKWpJKTwWfKJu2RY7duygIUOGqDPrBvORVhL/zMHxmeFyB1FSMm9k097RwdKXYQxFGmrRvQrO2OzsbJo0aZL8ML399tsykge7icGDB6srmRdeeIGGDh2qzowkO5Lockui+HlqoAjS/yG6Jn5H8k9qoHSgYi3E3x7w+mktOZR4pwdfxDRyDApUZ7YFrAQoc68FsOOxV5FIuZJB17YXfwdxO5nxOXRlfaw6KxyjvHlvvPGG7GKFSJi+ffvKpBs4rDl08lauXLki8w6MJvuaEIgW4mcJOoNJoSj9juLYsWOaK0hYUpyaNCavX9aTg4eHGjEet5lvUvmnHldntomWJl5YOUxXkFI7XFoTSzlppgn9vbw+ziizk1EigbjkVatWkbu7u6ybgp/Lly+X48x/TJ06VWauGkWuQOSUtI6/+KBEjCBKWqvOS4492XadGjUkr5/Xkksn4woaOtWpRW4zplH5Jx4zDNgwWmm5i+AQ+EPtcf65vM641b8xZCfnUNyRoouRGv2piI0VCqbK8+KnVpqUWBKsxIyuAJuw1OCLKA1wYsdME3pR8rBbJFLBEWhPODWoT57fryDvPX+Qc+uW5Fjt1oqzMElh3GP+XPLa/COVf9K2dxCgbt26MsJJC2AHgdIc9riTKAuMEomYmBgaO3asXHHCSY0onqeeeqp4phU7AB9co1bluniiuHfVSSnJukCU8qs6KT4DBw6k+vVRXM/OcHIip1o1xa5iHXlv3kje2zfdPLx+/VmOlxsyiBw87WO12qBBA82IBBasnTt35hamFqJIkUDqO+q6IBsTq43ff/9d5kRAIOCr4OYf/4HWinDwF0niN2IXYMLEpegX1Y3iM23aNOrRo4c6s08cKleS/oqbR137y0C/dOmSZhzXKMmBEiJclsMyFCkS27Ztk43Hwaeffiod2J9//rnMeoRfAmWmGQPjx4+Xh5ZITEzkHSEjv8vvvfeeOrNu0EsC+Uha8aFonULfZUQxTZ48Wdran376abr//vvleNu2benZZw0JWFOmTJGlHRiSJUy0lnm+aNEi+W/M2DeooBAYqI3wXvj94Lxmn4RlKFAkYDZBHkRISIi0VyKrGk5OgDjlN998kzp27CizsSEg+dV9wSoVgqKlJuulAX8nosC0RM2aNWVoM2Pf4HuOz4IWgEBgwZo7HzHmJV+RwM5h6dKltHr1aumMRZ0UZObmBf9QyMZGtu6WLVukCSpvnDW6sz300EOa669QGhCWN2PGDHWmDeBngkiwfdd+wfcWOT74LGgB7Nhh+nZxsc3Oe4XRYobp6qy5VnKmoP63zuv5ka9IYBs3evRoio6OpvDwcOratau651bgn8CHC9c9/vjj8nFwZG/evFk+Bkla9rQlxHYd2/a8YmntIFoNO0NEsDH2Cb6jBw4coHvuuUeNWDf4rOJ7Zo9U7eNNLl6mqbF119vVyMGx6Pm5QHMTdgjoKV1UZiN2GLgOjmyA8FjUdpo4ceLN+k72QkBAgMw50FK58KCgIPrrr7+oUqVKaoSxN7CowfdcKyvzr7/+WnM7dlPh6OJALd+pLn+WBt8OHuTXybjw7kId1yUBUQeIlIBjW2tls0sLTHPIObhxo4jiW54PieWbCe2pvu+oG8UHEwPMDGzftV+OHDkiLQFaybwPvRh6h/nbnvDv4UWtP6xBjuVKJhQQiLvn1SInV+Omf5OLBHYd9lquAyKBZk1oBVkoTv5iC2aiiCKXWkTuA9VJyYD/6ZtvvlFnjL2B+l0IutBKp7ewK2GyO509E9DTm1rNqSHWmsUTispt3Knd/NrkVN74qd/kImHPQCBhpjPKD+M9Tjyg9KWryecFITqV1UnJQKjzd999p84Ye2P//v0yUlEreQeXL1/WjJPdnFTt7U13f1aTKomJ3xiaTg2k9kvqkKNr8YSFRcKEIEIIocFo5FMk5RoS1Twi/gVK0cvB72OiiqXfkfTs1ZP27t1rXLY4Y1PgM/vnn39Sr1691Ij1g+/X3Xffrc7smypdvajT13Wp47K6VPcxvwKPAceaU+3RviXyZbBImBCsxPClO3HihHERTuUaCaH4V+wESuA09vtUCMRL6qR0NGnchFxdXenkyZNqhLEXUP+oe/fuMp9JK/Tr148DLW6jclt3avxi1QKP0sAiYWLQFxx1cIwOg3WpT1TjEJF7PzVQBLje7zMhEC+ogdKDAIMRI0YU7XBnbA74D5ctW0Z+fn5qxLpBT/2vl3+tqTBzrcMiYWKQ6AMnYLE+xC61iYJ+IapzTczY3Qs+AlaKncdhk5iY8gKHJfqZayVOnjEd2D2iqqpW+O233+jHjT+ySFgQs4oE8ieg/FpJ9zcFCIFF+K9RzutbEP8UzmJbWH1XwYfXo+Iy80SOIaHu1KlTXNW3uIi5KjtZR+kRWZR8MYOSQtIpNSyTMuOySZ9t3RMZTKPDhg2jI0ePqBHrBsJw5swZ6bTm4n6Ww6zvNCaeRo0aaSa0zhTAdPPWW29p8kPcv39/OnjwoDpjCkOvI0q7mkkhX0bRX49eoD2jgmn38PO0e1gw7RlxnvaOvkCHX7pM0f9LIl2GdZY8QbltmBjvbqsNJzAWMNila62IptZhOTYD+CBrbbLFzgcRLmvXlr4dqq2jS9dR2A+xtH9sKJ1ZHCl3Dxk3skmXpRfioaesFB2lXsukiF2JdPDly3Tk1TBKvWR93f927NghS+toJa8JOx9UgGWRsCwsEmZg06ZN9P7778sPtZYYMGAA7di5I9+KvoyBnFQdnZpzjU7OvUap14tuIq/L1FHEzgQ6OPkSJZxMU6PWAez7iBTSSrY9LBL//PMPtWrVSo0wloBFwgxgpXP+/HnN5R3ce++9FBoSyv1BCkCXoaczcyPoyqY4uWsoDkliJ3H41cuUcsF6Sl98//33NGHCBHVm/SBcFwuv4vv7mNLAImEGEAaL+vzYGmsJmB1Q7rzIsiJ2SuTvCVIg4I8oCSnhmXRaiEx2StnvMNHrBXXWtFJfDU7rSZMm0WuvvaZGGEvBImEGqlSpIh32Z89po2dwXnx9feWKjaOcbiXrRg6d//I66TJLF7EUfTCZonYlqrOyAebEnj17yn71WgEtSxHZhAUYY1lYJMwEnIJt22gnizUvDzzwAP3www/qjAE3jqTInUBpgZnqygaxGymmucqU4LOJjpLdunVTI9YPdj7Ynd/djstxWBoWCTPh7e0te2toMeln+PDhtHDhQrl6YwxcF6t/fY5p/i0TzqXJ8NmyAJ9J9DVHaXCUYtEKqFQLx3W9uvXUCGMpWCTMBCqr9h/QX5OlLrCTQGkRfDEZAwlnTCeYORk6SrteNhFk6CT5999/05NPPqlGtEGzZs1kOXvkXjGWhUXCTKAWzsXQi5rs8Y0Oew8//DDNnj1bc2G85iIlwnQrf122njITy8bnU61aNfrll1+oXj1trcjRQRGFCBnLwyJhJrDiGTx4sGb7NCCKBM3mufyBwoRhl/KZyiCKEw5rmJjat2+vRrRBZGQkzZ07VzOd82wNngHMyH333UeHDx/WVM/rXBDlhNUmRzoZ8Khmuv7PqOnv6mPZBDb8Gz722GO0YOECNaIdtm3bJhdb9lTex5pgkTAjbdq0oaeffpqcnLVpR42Pj6euXbvKpjT2jk8zN3Wr9Di6OlKFANOJjjHA7InGUvf1vU+NaAOYO+GLePTRR3lXW0bwu25GkC+BirBuFUw3wVgSRGjBZAbTk71HOlXt7UOOxewnXBC+bdypQlXLrYozMjPolVdekRFNqFKsJRCqi3alyOtgygYWCTODWv2fffYZZWRYX4G3okD5A4gcyot89dVXatQ+8WpWgbwblj47GQ3oawyvLG6oAQtw9MhRmWdQshL2ZQuqFqBWk9Yc7bYEi4SZwZcTDX1QGVaLoE3kjJkz6Msvv7Trwn/O7o7UYIK/+FmK2V3Mz4G9vKlSW+Ma15uK1q1by6KT/v7+akQ7oHLBmjVryM1Nm7txW4BFwsygDhIOVNzUKoMfGCz9Ei4ulrWjWxu+HTyozojKJTY7edevQA0m+svdhCVAIueRI0fk7qF69epqVDtggYVaYpwbUbawSJgZfMDhvEYfYa2uxOEwxCo0Li6ODh06pEbtDwcXB6r3dBWqPdKXHMsVTyhgqmo1pwZVqGY5XwQEArZ8JHZqESxMkP3Pmf9lC4uEBejRo4d0GGr1y5oLkrBGjhopo57sFUexC2g0JYBazaxOnjXLq9GCwa6h5uBK1G5BLfKoZ7kyGMgpGD9+PE2cOJECAwPVqLaAiRPZ/2xqKlscxJbUqosLjRo1StokAXpmo6SAFp1YeJu1Xgcf4Yj40qKk+KpVq+ze/JSdnENRO5MobPMNSg3LoPTYbJlNXc7TidyqulDFlu5UfVBF8mxUwaLJc/h3eumll2j//v20Z88eTf47wczUrl07WRoG2daFkZWUQxG/J6izOwm4x4vKVdRGYyVrhEXCQiCZCR94vHYvLy81qj3Cw8OpU6dO9Oabb9K4ceM0L3ymAIX/0GMCrUtJ/Ofg6CAO8dNJvDdl8Pbgs/b666/TU+Oeogb1G6hRbYEqxN9++y39+OOPBXbOy4jJpvBfbtD5z6/LelgFAdNg3cf9qPoDlcjNguY+W4FFwkIgc7lv3740ZswYaQbQMrt37xZzoZ66d+NaOtZGQkKCXITga63l5DNUq8VRUP/tDLFr2/3QeSkUxoIItW5rG7BQFBP2SVgI2FWHDRtGX3/9teaL5qEPAQQCDkVMSox1gMQz9Cnft2+fpgUClZMR5FGQQGTGZ9OeUcHFEgiAjoB4XFoE93AvDiwSFgS1cy5evCibudsCS5YsoYEDB8qoJ6ZsQbgoMqqR14LkMy2DNqVLly5VZ7cC/8Pe0RcovYSl1rMS8fhgSo9moTAWFgkLgjIXI0aMkHZWWwCiB/v3M888o8mMclsBGfEvvPACRUdHy4ggLUcDoQTHxo0b6cEHH1QjtxK85DqllrJDIExVJ2Zflf4jpmhYJCwInLzvvfcevf/++2pE21SsWJHWrl1LJ0+epClTppRpF7558+bR559/XmYVaw8cOEBvvPGGrHP1119/SXu6pcBODqam9evXazKrOheYYVGdAL479L24nZx0HYV+E6POSsf1nYmUeaN45ip7hUXCwuTaWRHiZ+UxA0aB8MSt27bKv6usfC3YxUCk0Njf0rZ4/O7Ro0dThw4daM6cOfTBBx9Qly5dZPVcdPczN8nJybKQ5Pbt2zUZ0JEX1GlCkAr+LfOLmjs2PVzdMg3/Tr2ibjGFwSJRBmDViQQ7W3H61qpZS06OyC4/ffq0xVfzWEWD3r17WzwkF42Zvv/+e5o8ebL898REt3z5cjp37pzs7mfO92LBggUybwXmJlsACw3swiCwjPXAIlEGoDNYnTp1aOHChTaxmwCYnNFcaejQodLsYklzCyZk0LJlS/nTUkAAUB0XbTU//PBDGXoKfwB6H/Tr108msyFQwdRAFCDKuabLgvIItAQyxCGwtWrVUiOMtcAiUQZgQkUy2ooVK2QpcVvB09OTfv75Z3lMmDBBmkIsAUI+sYtp0OC/xDGUQLn33ntl1i6cobcDMxFWrYUdeF7ktxQETFvIaEYgQt6sZvz7wgQETC2WEKa3335bLjBQJuXuu+9W92gXLJTeffddWeOMsT5YJMoImJtQHRbdwmwJTNRbt26VndCmvTlNjZoPTDAXLlyQv9fHx0eOwRcwaNAgubNB28uaNWvK8bxERUVJ30FhB3YIhfkVIAaoiwQHfi6YxFFY76effpJ+irzCZQogTHhetPRs27atGtU2EHH8Oz0+9nE1wlgTnHFdhiBpCCYKWyyFjEkYZhFMojAllC9fdDG8kgBnOSZ07GIgTmfPnqWRI0dS8+bNZbMnPz8/deWt4DVht1AYEAGYBt3djev/gNX9unXr6Pjx49SsWTPpmzDVZxVihVIVqMlkC+alXDD9oGse3rPNmzcX2sf68KtX6NqvpisuWfluD+q4tI46YwqCdxJlCFag+JKgppOtAXMLBAImJ/gpYJIxx3oEduzDhw/L3wXzUP/+/WUIJXwFBQkEgGj16tWr0ANlto0VCHDixAnZJAcTHZzpqD1U2ogvvGdIvoTpDI2rbK3xU2RkpPxszJw5s1CBYMoOFokyBgKBUgpa7VxXFBUqVJAROHDmTp8x3eSRODA1wb+AyCJkf2Oieeutt8okoQwZ6DiuXLkiS7Bg4ps7d666t2R88cUXUvSefPJJmQeC99OWqFq1quwbYYxvBdVcTUlgH291iykMFokypkWLFtK2jIlN6zWd8gOmNBQ0hIN344aN0hRkytVwbmQTciTQswNiC4duUYSFhUn7fmEHBAchvcXF1dWVZs2aRXfddZdcJZf03xW7iJCQENqwYQO9+uqrNleaPSYmRgYGIKLJGBNaQG9v8kbZdROAIn9BA/7zJTEFwz4JKwCJdV27daWvl30tV422CkxPMJ3AlAOfQO5EXFLw0UVpkG+++YZ27NghJxtMzPiJ31OYqQhRZc8//7w6yx+8PoSaFtXPID8ghNhBnTp1qlgtOPE4lKXA+zJkyBD5N8I3YmtgR9mnTx/q0rULzZo5S40WzdVt8XTktdInwTV+sSrVfaxgcyTzH7yTsAJq165NEydMlFExtgySpSAQACGPEET4E0q6TsGEilBX7MYQLQZxQALbmTNniuwpjgUHkuAKO+BTKEwg4CRHQT04Xm//G2ACQ44EIquMmeTxeJQ3QVQWdpW5j7FFgQBw8COqacoLU9SIcQTd70Ot3q8h3hg1UAIaTQ6guo+yQBgLi4QVgIkA5gRMNvYCMpQxuQ8cNFCu6BENVVyQg3Dt2jUZZor3EAcK3SHSCQl95s7TgHmradOmMooJ0Tm5QoGoNSS5QURQqA47kqJAZNZ9990nRQWmucGDB6t7bA/4j6ZOnSrFMG/4sLFAKFq+W102dyouDZ8LoHpPVCmVyNgbLBJWAmyymExQIhmOT1sHkUeffPIJbdm8RfoVdu7cKceL49hGYTs8Nm8eRMOGDeUOBQ5t+CnMCUxICLMFKAnSpk0b6V+CExZ/21NPPSWTCgsCIgafB8QFj4MvZdGiRZou0mcMEFRkx2PXV1KqDahIzacHUXl/4/w0rr7O1GhSANUfZ0hyZIyHfRJWBP4pEMUSHx8vq6vaUjx8YWBHgF0AHLPoJdC6dWsZHQSfQmHmll27dsnrIKx5V96ojQV7PrKtURnV3HkoECSE3KLvN/4WiBReF0pz5JcfgrDdX3/9Ve428PehfIct5soUBhzWpohAQ3+IiD8S6MxnEWrkThpODKCqfbzJtZJ9fJ9MDkTCmhk5ciRETB5CJPTBwcHqHtskIiJCX6lSJf26devUiP2Qk5OjFxO+vlatWvq77rpLP2/ePL1Ybat7bQOxc9C3atVKHxQUpF+4cKE+ISFB3WP7pKWl6efPn68XAqFGGC3A5iYrIyAgQJoqYLO1pbpOxgBzG3ZScDzDZwHnJuzzAKtvrYKwXPwtCIWFKQl/G/wVzz77rMy4twfwt6OUOirXmjpXhjEvLBJWyJgxY2RNfS13GCsNMNFALHbv3i2duQCtOVEiA8lqiBoSCxw5bq3AEb9y5UoZzQV/A/wjMEUhGgphuwX1b7ZVUAJl8eLFssc7AgsY7cAiYYVgRY2IH2TXIsTTXsnrj1i2bBmNHTtW+mrga0AHMwDbtjXsMpD3cfTo0ZvJfQhnRitR+CUgasicNlf9KmsHPjZUeH3xxRepc+fOapTRDAark/Vibz6JvJw9e1bftGlT/cmTJ9UII1bj0m8TGxsrz8XKVO/n56cfOnSofsWKFfpjx47ps7Oz5X3mAr4TnU4nb2/fvl0/evRovb+/v75evXr6adOmyXG8hoyMDHnb3snKytL/8MMPeiHmaoTREhzdZMWg7DTs14cOHZLtKb29udbM7SQmJkqbP94flM9G3D0+L7CBo3aSr6+vzMKuXr267JuM+5GEh5U/osdyo4qQ4QxzEN5z2MxxG+U1YBZCyXFEIJ04eYIOHTwkM6hR2hqfw3feeUc+FwoL4hzmJHuJSjOG8PBwWZ/J3qK3bAkWCSsHiVkoX4BtOorF8ZetYCAMyD2AzTstLU3mHODzgtIYMEkhyxv+ACSuIdkO5iyY9vATZTyQ64BEL3wlIBTwDSGAACKNzyEqvCI8Fz6G4laItUeQQY7Q5C1btsj8FUabsEhoAJSgRiQMOr6VJEPV3sFHHDsO5GEgGADlqTGBQUggBhAXZEZDPHAtfEHwH2D3gcZQuB9AUBjjgFijVAp6fXz88ce8u9IwLBIaAP9EMIPwF43RCljUYAeGTHp7jdKzFXhppAFgDoFAYDWM0FCUo2AYawURZ9itIdudBUL7sEhoCNjaYVsfPny4dJYyjDWBHS+q30IYIBAw1zHah0VCQ2BHgRpBcK4i6gn2dIaxFlAzC8UN0Uwob44Lo21YJDQGdhNYpSEkE+UrGMYawGfxkUcekYUNObjCtmCR0CBoroOSFc2aNZORN1Yee8DYOOjpgba03bt3l31ROEzbtmCR0Cg+Pj5SHGbMmEGbN29moWDKDIgEEhbRWwMJiIxtwSKhYWD3xa5i3Lhx9Oeff6pRhrEMuTkmSC5csWKF3RUttBdYJDQMRALVUV977TWZT4JKmwxjCSAQWJygLAl2sZzDY7uwSGic3IqxKB+BMhQMY24gEPjMIbEV1V05ksm2YZGwAeAofPnll+mbb76R50i6YxhzAIGAMCCTGu1j0SSLsW1YJGwErOYgFohRb9GihfRRsDObMTX4nNWsVZN27Nghu+wx1kP69SwKXnKdtnc5VeARuSOBdJnFmxdYJGwMlKpGhdOHH35YFgTMLU7HMKUBnfZQKRfmzbfefIsCAwPVPYw1cG5BJP1v+Hk6t/g6ZSXlFHgcmnKZdvQ/S9d3G29tYJGwMfAlRn0nVN6cMGECbdq0Sd3DMCXj8uXLNGDAAPrwww+luYl9ENaDXqwBz86LpOClUZSVkKNGCyc9Kov+fekyXd9lnFCwSNggEApkvyIskevnMKXh7NmzUiDq168v+1Oj3DpjHUiBmB9BF76OUiPGA5PTvy9fpsidRQsFi4SNgtVe3759qU2bNrJvAnosoyMbwxgLytMjxPqee+6hpUuXcmdEKwMmppDl0eqs+OiyhFC8eKlI0xOLhB2A0uILFiygQYMGyU53DFMUqOaKQAh0lfv0009lIybGesiIyabwLaX/LmM3cvHbGHWWPywSdkBQUJCMaUe3tY4dO8qubAyTH+jt/d5778kFBaLj0OiLazFZH2Gb4mQ0kymI+SeZ4o6kqLM7YZGwE1A9dt26dTRixAiu9cTkS3h4OA0ZMkTm28BJzQ5q6+XKBtM2Hru2LV7duhMWCTsCpROmT59Or7zyigyNRU9nTrxjQGxsLPXv31/uNvfu3StzbRgGsEjYGYh8gvkgKSlJ1t3p1asXHT9+nHcWdgqCGhDQgB4Qy5Yto++//16amBgmFxYJOwWlxuGUbNeunQxxRPSKloUiIiJC9lUuq78BkUDIdkdOQVhYmLTtWzuXLl2iBx54gJYsWSIXD6jmyqW+mdthkbBjkJ09b9482QdAy9nZEIamTZvS2LFjy+RvQPTYs88+K8ONUbodOQVw/F64cEFdYV1A0DZu3Eg9evQgX19fGjpsqLqHYe6ERcLOgZ/iwQcflJnZMEMdPnyYtm3bpqldxfXr1yk+Pp6aN29u8Ugc7BgQDLBhwwa5I4PoPvHEE7JsO2z8sPVbGwhcgKC++eab9O2331LVgKrqHoa5ExYJRgJzA7h48aLM1n7qqaekCUcLwLwDunTpIn9akpUrV9Iff/wh7fko1T5p0iT5c+7cuXT+/Hk5CVsDKKdx4sQJebtfv3509OhR+W+c++/OMAXBnxDmFoYOHUrHjh27pZqstYPCc9j5NG7cWI2QNDthR7R8+XJpDjIH+J1r166VvZ0x8eaC0FH0fMZqHTb+st6VITABuxyIf3R0tCytUbt2bXUvo0Vaf1BD3TINTV8tuGAjiwRzB9WqVZM2a9R+go0dYHKxRp8FJmAkB6KvQY0ahi8OonU++OAD2a0vJSVFOulvBzkBaLdZ2IHHoXZRQSBCDCWzIaYQBvggfvnll5vmOtQ6euaZZ8os3wBZ02+99Rb17NlTlvdGDwg/Pz91L6NlvJu4icM0WfD1x1UhB6eCP6MsEky+wLaP1XHdunXlpItV8fDhw+ncuXNlvjLOC17LlStXqGHDhvI1p6am0ksvvSSjtdavX08TJ07M16RSrlw5at26dZEH8gYKApFMEM5mzZrJ34PrES2EVTt2NWW1C0tPT5fvC/xNEK7ff/+dPl/8uQxUYGwDB/GRbjW7BpXzLp0PzrNuear7RBV1lj8O4sNk1R5KrAbXrFkjbyN+G+Ul6tWrJ88Zy4CPCCbE119/nfbs2SPNFnB6YrVd1sBxjJ0PitAtXLhQTtbBwcEy3h8TtTlX8XgvunXrJj+Pbm5uMlERvxO7j7ffflu+Z7t376aWLVuqR5gXiAMS4WbMmCEj1hDSChFjv4Ptknwpg/569ILRZcLz4tWwAnVcVodcPAsXGv70MEWCiRZmJzhhf/jhB2njRqY2xAMr97JcZ2AXAVMYzE3wpyA6C+G8TZo0MbuZB5MySE5OluY5RIlBJFDaAiKF+xHtZO73B88Pvwx2foisQvgtdoCABcK28ajlSl2+rUfOHsXbUUiBWFq0QADeSTDFBh8ZTMBwCI8ZM0auprGCx87C0vZ3mFL69OlDXl5eUrBgRsIKH6afwkBoKpr5FwbMV++//74skJgfmJg7dOggRQGmrbwTMnY4eF0Qin379pllska+A54XP+F36NSpk/x3yPXNMPZDcmgGXVwdQ2E/xskS4AXhWM6BmrwcSEH9fIwSCAlEwpoZOXIk/mJ5CJHQBwcHq3uYsiYjI0MvVsz6Nm3a6MVEqn/33Xf1Yoeh7rUMr7/+uvxsiBW0XkzUehcXF73YUejFxKmuyB+xA7n5uSrocHZ21p86dUo94k5OnDghrxs9erRep9OpUQNCJPT333+/vk6dOkW+luKC5/vf//6nHzx4sF4IohzDvwXDJF9K1wcvvV7gkZN56+fUGFgkmFKDCXLz5s36AQMG6GNiYuTY1atX75g4TU1WVpb+gQce0FeqVEn+LrFq1zdv3lzv4+NT6OSeCx5T1FEYEAJ8JsUqXp+dna1GDeC1tGvXTt+jRw+TiQR+H0S5ffv2+oCAAP3UqVP1kZGR6l6GMQ9ssGRKDUxMyC6GLwAmwYSEBJk7ABMIypObq9ERoq5QrwkmH4CchJkzZ8qwV4TAiklejhcEXndRR2Eg3wDmUISWHjhwQI0aOHjwoDy6du1aKlOT+I7KiDIkw4Fdu3aR2LnIqCWYwvz9/eU4w5gNg1ZYL7yT0B5YgUdFRelnz54tV/ZY6YvJTd1rOqKjo+VnYvz48WpEbLeTk/XNmjXTe3l56Y8ePapGzUdoaKi+atWq0ty2YMEC/ZYtW/RCoPSBgYH6GjVq6OPi4tSVxoP3LyIiQi8EVt+5c2f5XGfPnpX33b5jYRhzwyLBmJWkpCT9/v37b5qh4EOYO3eu/vTp09IkUxr+/vtvvVjt6xcvXqxGDKxcuVLv5OSknzx5cpEmI1OACbxt27Z6b29v+TmtWLGi9EeI1b66omjwOuMT4uVPsfPSN2nSRArsJ598IgXD1H4NhjEWjm5iLMpPP/0keyYjdBUZzdOmTaNhw4ZJs0pR5p3bQRguak2hxASim3JBpjHqJsEchCS74j5vScDvvHr1qszCxmtB7gZ+f2GIiV+WP0Edpa+++koWKUShQHQRRI5FlSpVyN3dXV3NMGUDiwRjcTA5hoaGytBQ5F/Af4EkMBTLQ0VVhK8inBbhrLaE2CXIMF1kQiOTGyU9nn76aRkui1pPgwcPlglwRYkLw1gSdlwzFgf5B+i58Nhjj0mBANhVYBLFogCJcLgvt7UqRAX3aRVUqf3yyy9lpnrHjh1lNjZAJjb6SWPXA0c77mOBYKwN3kkwVgWieGB+OX36tIziwfldd90lC9NhlY1ier1797bKhDGIGcxEp06dkqU5UIobbUEHDhxIsXGx1KF9B1nOHMmHaPbDMFqARYKxelCxFVnUOFCXacqUKbIEBUphoI9Do0aN5M6kTp06MuwW5hyEx5p6VY6vCsJ5EXYbFRUl+23UrFlTZjrjtd1///3yd+K14DW9++67Usxyv2KW8I0wjKlhkWA0BVbryDvAhAszzfbt22UzHTiNIQ6rV6+W93Xu3Fn2cEZNp8DAQFk6AyUrMMGjrhLMVxUqVJCmL/xE+YyBgwZSUGCQbCK07ddtdCPuhiw9gokfzwvhwU4GTmrsEHwq+tCwocPoueeek6YxlPqoWrWqfB14XhYFxhZgkWBsAogHDji78ZFG0b9r167dPCAU2H2EhITIHguIJLrd14HkNPSpRgQWhAKltWEWCqoWREMGD5HihMdBACAEuQeLAWPLsEgwDMMwBcLRTQzDMEyBsEgwDMMwBcIiwTAMwxQIiwTDMIwNgGg/hIib2s3MIsEwDGMDIFcH+Tko248cotyKBaWFRYJhGMZGQEj3tm3baPjw4bIu2muvvUZHjhyR4d4lhUWCYRjGxoBYoDoAaoIhsbR9+/aywjDyh4oLiwTDMIwNk5aWRv/++y899NBD1KpVK3rppZdkbTRUDjAGTSXToRTCn3/+SXXr1pXnDMMwjIFVq1bR888/r84KB6X4UWIG1/fp00dWYS6ocoCmRALlEGBns7U+AwzDMKUFJWNQdLK4oGkXKhW/8MILsiAl5tm8aEokGIZhGPPg6upKffv2pbFjx8o6Z7mLcav3SaC9JYqtwZ7GMAzDmAeYm+Dwxr4hr+nJ6ncSucybN0/a3BiGYZg7Qal6NL0qLg0aNJCl9CdNmiRL66PacV40IxK5paAZhmGYO1m+fDk988wz6qxwEASEdrnwQ3Tt2lX2XC8IzYgEwzAMUzDo0oiWuQWB3ifomvjoo4/SmDFjyN/fX44VBedJMAzD2DDYNcAh/fvvv8t+PMjCDgoKMkogAIsEwzCMjYGWu9WrV6c5c+bQvn37aOvWrdSjRw/y8vJSVxgPiwTDMIyNgN3BoEGDaP369TKrGrsGFP273RldHNgnwTAMYwOcPXtWigH8Dqbsu84iwTAMwxQIm5sYhmGYAmGRYBiGYQqEzU2M3RMaGkpxcXFUoUIFaty4cb5OvpCQEFmfH/VtmjRpckcRNIaxVXgnwdg9CBFs164d3X333bIU/e1ARDp06CCvWbp0qRplGPuAdxKM3ZOVlUUjR46UfYGbNWtGO3fuJF9fX3kfSsE8+OCDtGnTJmratCn973//o8qVK8v7GMYe4J0EY/cg8eiTTz6RZQpOnjxJM2fOvFkn7Msvv5QCgdo2KHvAAsHYG7yTYBjFunXr6JFHHpGiAWFAxip6A8MXgZL1s2bNKlVSEsNoERYJhlFg94ByyYsXL5YJSRALZK3CV7F79+5CK2UyjK3CIsEweUCUU+/evenIkSPyHLVuDhw4QA0bNpTnDGNv8N6ZYfJQqVKlW8ot33fffSwQjF3DOwmGyUN4eDh1795dhr0C5EVs375djjGMPcI7CYZRZGZm0ssvvywFolq1anJHkZGRIbt9paSkqKsYxr5gkWAYxdq1a2WuhJubm2wF+dFHH1GrVq1kdc2pU6dy+1zGLmFzE8MIwsLCqE2bNhQdHU3jx4+XEU4ovYHkuXvuuUeW7Ni8ebO8zTD2BO8kGLsnOztbCgMEAkKBHURubSb4IrCLSEtLk+an69evy3Fw+fJlaYpC7gTq948aNepmVBTD2Aq8k2Dsns8//5yeffZZ8vT0lDuHli1bqnsMIJkOSXXBwcE0fPhw+vbbb6WPonPnzpSYmCjbQuJrhBpQ8GHgZ61atdSjGUbb8E6CsWuSk5Nlg/j+/fvTxx9/TC1atFD3/Acaya9atYoeeOABKQJIsIOYXLx4UQoCRAPHjh075K4EPxnGVuCdBMOUAOwkkpKSKCAgQI0Qpaeny37CL730Ej3//PNqlGG0De8kGKYEuLu73yIQAFFQOp2OunXrpkYYRvuwSDCMCUAS3mOPPUYjRoyQJcUZxlZgcxPDlBIIxIABA6h169a0aNEiGS7LMLYC7yQYphSgk13Xrl2pZ8+etGTJEhYIxubgnQTDlAD4Hr7++mvppF64cKHsQ4FcCYaxNVgkGKYEHD16VO4gBg8eTP369VOjBurWrSv7YTOMLcAiwTDFBF+Zxx9/XOZO5Me4ceNk21OGsQVYJBimBKA8B/Ii8sPDw4N7YTM2A4sEwzAMUyAc3cQwDMMUCIsEwzAMUwBE/weqbejgw0ypGQAAAABJRU5ErkJggg==)\n",
        "* K=3 , new data point(red) can be classified based on nearnest 3 datapoints (2 pink,1 yellow) as max 2 pink so red point is belongs to class-B.........for K=6 nearnest 6 data points are considered (4 yellow,2 pink) then new data point belongs to class-A\n",
        "* To classify k into any one class a distance metrix is used..one of popular metrix is \"Euclidean distance\"--to calculate distance between new data point and existing data ponts."
      ],
      "metadata": {
        "id": "D_sQWBnxHYOO"
      }
    },
    {
      "cell_type": "code",
      "execution_count": 2,
      "metadata": {
        "id": "XPT5WU81HadY"
      },
      "outputs": [],
      "source": [
        "#import the packages\n",
        "\n",
        "import matplotlib.pyplot as plt\n",
        "import numpy as np\n",
        "from sklearn.datasets import load_iris\n",
        "from sklearn.neighbors import KNeighborsClassifier\n",
        "from sklearn.metrics import classification_report, confusion_matrix\n",
        "from sklearn.model_selection import train_test_split\n",
        "from sklearn.preprocessing import StandardScaler"
      ]
    },
    {
      "cell_type": "markdown",
      "source": [
        "**Iris dataset:**\n",
        "\n",
        " The Iris flower dataset is a multivariate dataset that contains measurements of the sepal length, sepal width, petal length, and petal width for 150 iris flowers, with 50 samples for each of the three different species of iris (setosa, versicolor, and virginica)."
      ],
      "metadata": {
        "id": "LvB32jFoV70z"
      }
    },
    {
      "cell_type": "code",
      "source": [
        "type(iris)"
      ],
      "metadata": {
        "colab": {
          "base_uri": "https://localhost:8080/"
        },
        "id": "uBYZb-w3W52s",
        "outputId": "90e991b5-fea5-493c-a349-504a372e6433"
      },
      "execution_count": 19,
      "outputs": [
        {
          "output_type": "execute_result",
          "data": {
            "text/plain": [
              "sklearn.utils._bunch.Bunch"
            ]
          },
          "metadata": {},
          "execution_count": 19
        }
      ]
    },
    {
      "cell_type": "code",
      "source": [
        "# loading dataset\n",
        "iris=load_iris()"
      ],
      "metadata": {
        "id": "OYoP4lcfJzXH"
      },
      "execution_count": 3,
      "outputs": []
    },
    {
      "cell_type": "code",
      "source": [
        "# with first five rows of dataset being used as test set.\n",
        "iris.data[:5]"
      ],
      "metadata": {
        "colab": {
          "base_uri": "https://localhost:8080/"
        },
        "id": "EEacPmYrKC0K",
        "outputId": "d8db3bd6-2cc7-4680-c854-1d6961f6de9c"
      },
      "execution_count": 4,
      "outputs": [
        {
          "output_type": "execute_result",
          "data": {
            "text/plain": [
              "array([[5.1, 3.5, 1.4, 0.2],\n",
              "       [4.9, 3. , 1.4, 0.2],\n",
              "       [4.7, 3.2, 1.3, 0.2],\n",
              "       [4.6, 3.1, 1.5, 0.2],\n",
              "       [5. , 3.6, 1.4, 0.2]])"
            ]
          },
          "metadata": {},
          "execution_count": 4
        }
      ]
    },
    {
      "cell_type": "code",
      "source": [
        "# \"iris.feature_names\" is a Python list contains names of four features.that are present in  Iris flower dataset.\n",
        "# used to label the columns of the dataset \n",
        "iris.feature_names"
      ],
      "metadata": {
        "id": "fCA_bghhKLrz",
        "colab": {
          "base_uri": "https://localhost:8080/"
        },
        "outputId": "1f15fbba-0f3a-4be9-c920-db3e4c42debf"
      },
      "execution_count": 5,
      "outputs": [
        {
          "output_type": "execute_result",
          "data": {
            "text/plain": [
              "['sepal length (cm)',\n",
              " 'sepal width (cm)',\n",
              " 'petal length (cm)',\n",
              " 'petal width (cm)']"
            ]
          },
          "metadata": {},
          "execution_count": 5
        }
      ]
    },
    {
      "cell_type": "code",
      "source": [
        "# \"iris.target\" is a NumPy array that contains target variable for the well-known Iris flower dataset.\n",
        "#  goal --- predict species of an iris flower based on its sepal length, sepal width, petal length, and petal width measurements.\n",
        "#  represents species of each iris flower observation using integer labels.\n",
        "#  integer label 0-- setosa species, \n",
        "#  label 1 -- versicolor species, \n",
        "#  label 2 --virginica species.\n",
        "iris.target\n"
      ],
      "metadata": {
        "colab": {
          "base_uri": "https://localhost:8080/"
        },
        "id": "_lCMhKgYTUBk",
        "outputId": "1344ca4b-1d3b-4e4c-f12c-16874d384178"
      },
      "execution_count": 6,
      "outputs": [
        {
          "output_type": "execute_result",
          "data": {
            "text/plain": [
              "array([0, 0, 0, 0, 0, 0, 0, 0, 0, 0, 0, 0, 0, 0, 0, 0, 0, 0, 0, 0, 0, 0,\n",
              "       0, 0, 0, 0, 0, 0, 0, 0, 0, 0, 0, 0, 0, 0, 0, 0, 0, 0, 0, 0, 0, 0,\n",
              "       0, 0, 0, 0, 0, 0, 1, 1, 1, 1, 1, 1, 1, 1, 1, 1, 1, 1, 1, 1, 1, 1,\n",
              "       1, 1, 1, 1, 1, 1, 1, 1, 1, 1, 1, 1, 1, 1, 1, 1, 1, 1, 1, 1, 1, 1,\n",
              "       1, 1, 1, 1, 1, 1, 1, 1, 1, 1, 1, 1, 2, 2, 2, 2, 2, 2, 2, 2, 2, 2,\n",
              "       2, 2, 2, 2, 2, 2, 2, 2, 2, 2, 2, 2, 2, 2, 2, 2, 2, 2, 2, 2, 2, 2,\n",
              "       2, 2, 2, 2, 2, 2, 2, 2, 2, 2, 2, 2, 2, 2, 2, 2, 2, 2])"
            ]
          },
          "metadata": {},
          "execution_count": 6
        }
      ]
    },
    {
      "cell_type": "code",
      "source": [
        "# \"iris.target_names\" is one-dimensional NumPy array contains three string values, representing three different species of iris in the dataset: 'setosa', 'versicolor', and 'virginica'.\n",
        "# pre-defined attribute in scikit-learn that contains the names of the target.\n",
        "# Also --maps the integer label predicted by the model to the corresponding species name.\n",
        "# EX: to map predicted integer label (which is 0 in this case) to corresponding species name ('setosa').\n",
        "print(iris.target_names)"
      ],
      "metadata": {
        "colab": {
          "base_uri": "https://localhost:8080/"
        },
        "id": "2sVGlPQPTYjz",
        "outputId": "2d4bc7ca-d6c2-46a3-8077-25f7d3453a56"
      },
      "execution_count": 7,
      "outputs": [
        {
          "output_type": "stream",
          "name": "stdout",
          "text": [
            "['setosa' 'versicolor' 'virginica']\n"
          ]
        }
      ]
    },
    {
      "cell_type": "code",
      "source": [
        "# \"iris.data\" is two-dimensional array with 150 rows (one for each observation) and 4 columns (one for each feature).\n",
        "# \"iris.target\" is a one-dimensional array with 150 integer values, where each value represents the species of the corresponding iris flower observation.\n",
        "\n",
        "print(type(iris.data))\n",
        "print(type(iris.target))"
      ],
      "metadata": {
        "colab": {
          "base_uri": "https://localhost:8080/"
        },
        "id": "CovvHQqkTbUL",
        "outputId": "68468ee5-f31d-413a-af1c-24dea009df34"
      },
      "execution_count": 8,
      "outputs": [
        {
          "output_type": "stream",
          "name": "stdout",
          "text": [
            "<class 'numpy.ndarray'>\n",
            "<class 'numpy.ndarray'>\n"
          ]
        }
      ]
    },
    {
      "cell_type": "code",
      "source": [
        "# shows 150 rows and 4 coloumns\n",
        "iris.data.shape"
      ],
      "metadata": {
        "colab": {
          "base_uri": "https://localhost:8080/"
        },
        "id": "7JiJowYhTdUW",
        "outputId": "43fd6a39-664a-4062-a113-1f2d0e19e589"
      },
      "execution_count": 9,
      "outputs": [
        {
          "output_type": "execute_result",
          "data": {
            "text/plain": [
              "(150, 4)"
            ]
          },
          "metadata": {},
          "execution_count": 9
        }
      ]
    },
    {
      "cell_type": "code",
      "source": [
        "#split the data\n",
        "X_train, X_test, y_train, y_test = train_test_split(iris.data, iris.target, test_size=0.2, random_state=41)\n"
      ],
      "metadata": {
        "id": "BFok6qtbThlH"
      },
      "execution_count": 10,
      "outputs": []
    },
    {
      "cell_type": "code",
      "source": [
        "# X_train contains a random subset of 80% of the rows of the original iris dataset, which is used for training a machine learning model. X_test contains the remaining 20% of the rows, which are used for testing the model's performance on unseen data.\n",
        "# It is 2d---(rows,coloumns)\n",
        "X_train.shape, X_test.shape"
      ],
      "metadata": {
        "colab": {
          "base_uri": "https://localhost:8080/"
        },
        "id": "5Vh8zJWVTqBA",
        "outputId": "98252642-033b-4163-9f69-d1c2fc00bc3f"
      },
      "execution_count": 20,
      "outputs": [
        {
          "output_type": "execute_result",
          "data": {
            "text/plain": [
              "((120, 4), (30, 4))"
            ]
          },
          "metadata": {},
          "execution_count": 20
        }
      ]
    },
    {
      "cell_type": "code",
      "source": [
        "# y_train contains a random subset of 80% of the target variable values from the original iris dataset, which is used for training a machine learning model. y_test contains the remaining 20% of the target variable values, which are used for testing the model's performance on unseen data.\n",
        "# there is only one target variable in the iris dataset (i.e., the species of the iris flower), the shape of both y_train and y_test arrays have only one dimension.\n",
        "\n",
        "y_train.shape, y_train.shape"
      ],
      "metadata": {
        "colab": {
          "base_uri": "https://localhost:8080/"
        },
        "id": "RDrSWuiBTtvn",
        "outputId": "ebad8d84-3c05-49bb-9a0e-9ee266a0dbf1"
      },
      "execution_count": 12,
      "outputs": [
        {
          "output_type": "execute_result",
          "data": {
            "text/plain": [
              "((120,), (120,))"
            ]
          },
          "metadata": {},
          "execution_count": 12
        }
      ]
    },
    {
      "cell_type": "markdown",
      "source": [
        "# Train The model"
      ],
      "metadata": {
        "id": "mYscy4azg10E"
      }
    },
    {
      "cell_type": "code",
      "source": [
        "# KNeighborsClassifier() class from scikit-learn is used to create a KNN classifier object.\n",
        "# with n_neighbors=1 indicating that the classifier should consider only the nearest neighbor of a given data point when making predictions.\n",
        "# fit() method of KNN classifier object is called, with X_train and y_train as its arguments. This trains the KNN classifier on training data, allowing it to learn relationship between features (contained in X_train) and target variable (contained in y_train).\n",
        "\n",
        "knn = KNeighborsClassifier(n_neighbors=1)\n",
        "knn.fit(X_train, y_train)     \n",
        "     "
      ],
      "metadata": {
        "colab": {
          "base_uri": "https://localhost:8080/",
          "height": 74
        },
        "id": "KI8jg5ZyTxQA",
        "outputId": "a1415ff7-ae45-482b-c00b-015f9e525376"
      },
      "execution_count": 13,
      "outputs": [
        {
          "output_type": "execute_result",
          "data": {
            "text/plain": [
              "KNeighborsClassifier(n_neighbors=1)"
            ],
            "text/html": [
              "<style>#sk-container-id-1 {color: black;background-color: white;}#sk-container-id-1 pre{padding: 0;}#sk-container-id-1 div.sk-toggleable {background-color: white;}#sk-container-id-1 label.sk-toggleable__label {cursor: pointer;display: block;width: 100%;margin-bottom: 0;padding: 0.3em;box-sizing: border-box;text-align: center;}#sk-container-id-1 label.sk-toggleable__label-arrow:before {content: \"▸\";float: left;margin-right: 0.25em;color: #696969;}#sk-container-id-1 label.sk-toggleable__label-arrow:hover:before {color: black;}#sk-container-id-1 div.sk-estimator:hover label.sk-toggleable__label-arrow:before {color: black;}#sk-container-id-1 div.sk-toggleable__content {max-height: 0;max-width: 0;overflow: hidden;text-align: left;background-color: #f0f8ff;}#sk-container-id-1 div.sk-toggleable__content pre {margin: 0.2em;color: black;border-radius: 0.25em;background-color: #f0f8ff;}#sk-container-id-1 input.sk-toggleable__control:checked~div.sk-toggleable__content {max-height: 200px;max-width: 100%;overflow: auto;}#sk-container-id-1 input.sk-toggleable__control:checked~label.sk-toggleable__label-arrow:before {content: \"▾\";}#sk-container-id-1 div.sk-estimator input.sk-toggleable__control:checked~label.sk-toggleable__label {background-color: #d4ebff;}#sk-container-id-1 div.sk-label input.sk-toggleable__control:checked~label.sk-toggleable__label {background-color: #d4ebff;}#sk-container-id-1 input.sk-hidden--visually {border: 0;clip: rect(1px 1px 1px 1px);clip: rect(1px, 1px, 1px, 1px);height: 1px;margin: -1px;overflow: hidden;padding: 0;position: absolute;width: 1px;}#sk-container-id-1 div.sk-estimator {font-family: monospace;background-color: #f0f8ff;border: 1px dotted black;border-radius: 0.25em;box-sizing: border-box;margin-bottom: 0.5em;}#sk-container-id-1 div.sk-estimator:hover {background-color: #d4ebff;}#sk-container-id-1 div.sk-parallel-item::after {content: \"\";width: 100%;border-bottom: 1px solid gray;flex-grow: 1;}#sk-container-id-1 div.sk-label:hover label.sk-toggleable__label {background-color: #d4ebff;}#sk-container-id-1 div.sk-serial::before {content: \"\";position: absolute;border-left: 1px solid gray;box-sizing: border-box;top: 0;bottom: 0;left: 50%;z-index: 0;}#sk-container-id-1 div.sk-serial {display: flex;flex-direction: column;align-items: center;background-color: white;padding-right: 0.2em;padding-left: 0.2em;position: relative;}#sk-container-id-1 div.sk-item {position: relative;z-index: 1;}#sk-container-id-1 div.sk-parallel {display: flex;align-items: stretch;justify-content: center;background-color: white;position: relative;}#sk-container-id-1 div.sk-item::before, #sk-container-id-1 div.sk-parallel-item::before {content: \"\";position: absolute;border-left: 1px solid gray;box-sizing: border-box;top: 0;bottom: 0;left: 50%;z-index: -1;}#sk-container-id-1 div.sk-parallel-item {display: flex;flex-direction: column;z-index: 1;position: relative;background-color: white;}#sk-container-id-1 div.sk-parallel-item:first-child::after {align-self: flex-end;width: 50%;}#sk-container-id-1 div.sk-parallel-item:last-child::after {align-self: flex-start;width: 50%;}#sk-container-id-1 div.sk-parallel-item:only-child::after {width: 0;}#sk-container-id-1 div.sk-dashed-wrapped {border: 1px dashed gray;margin: 0 0.4em 0.5em 0.4em;box-sizing: border-box;padding-bottom: 0.4em;background-color: white;}#sk-container-id-1 div.sk-label label {font-family: monospace;font-weight: bold;display: inline-block;line-height: 1.2em;}#sk-container-id-1 div.sk-label-container {text-align: center;}#sk-container-id-1 div.sk-container {/* jupyter's `normalize.less` sets `[hidden] { display: none; }` but bootstrap.min.css set `[hidden] { display: none !important; }` so we also need the `!important` here to be able to override the default hidden behavior on the sphinx rendered scikit-learn.org. See: https://github.com/scikit-learn/scikit-learn/issues/21755 */display: inline-block !important;position: relative;}#sk-container-id-1 div.sk-text-repr-fallback {display: none;}</style><div id=\"sk-container-id-1\" class=\"sk-top-container\"><div class=\"sk-text-repr-fallback\"><pre>KNeighborsClassifier(n_neighbors=1)</pre><b>In a Jupyter environment, please rerun this cell to show the HTML representation or trust the notebook. <br />On GitHub, the HTML representation is unable to render, please try loading this page with nbviewer.org.</b></div><div class=\"sk-container\" hidden><div class=\"sk-item\"><div class=\"sk-estimator sk-toggleable\"><input class=\"sk-toggleable__control sk-hidden--visually\" id=\"sk-estimator-id-1\" type=\"checkbox\" checked><label for=\"sk-estimator-id-1\" class=\"sk-toggleable__label sk-toggleable__label-arrow\">KNeighborsClassifier</label><div class=\"sk-toggleable__content\"><pre>KNeighborsClassifier(n_neighbors=1)</pre></div></div></div></div></div>"
            ]
          },
          "metadata": {},
          "execution_count": 13
        }
      ]
    },
    {
      "cell_type": "code",
      "source": [
        "# After training, KNN classifier is ready to make predictions on new, unseen data.\n",
        "y_pred = knn.predict(X_test)"
      ],
      "metadata": {
        "id": "u-vPsk7ETyxk"
      },
      "execution_count": 14,
      "outputs": []
    },
    {
      "cell_type": "code",
      "source": [
        "# \"score()\" method of classifier can be used to evaluate its performance on both training and testing data.\n",
        "#  returns accuracy score of the KNN classifier on training data.it calculates the proportion of correctly classified samples in the training set\n",
        "\n",
        "knn.score(X_train, y_train), knn.score(X_test, y_test)\n"
      ],
      "metadata": {
        "colab": {
          "base_uri": "https://localhost:8080/"
        },
        "id": "K72Gg_65T2yL",
        "outputId": "f14b643b-72cf-43b8-9417-dc62f392dc13"
      },
      "execution_count": 15,
      "outputs": [
        {
          "output_type": "execute_result",
          "data": {
            "text/plain": [
              "(1.0, 0.9)"
            ]
          },
          "metadata": {},
          "execution_count": 15
        }
      ]
    },
    {
      "cell_type": "markdown",
      "source": [
        "# Test The Model"
      ],
      "metadata": {
        "id": "b4tTnuh-jAf9"
      }
    },
    {
      "cell_type": "code",
      "source": [
        "#  KNN classifier is now trained with n_neighbors=5, which means that it  consider five nearest neighbors of each data point when making predictions.\n",
        "knn = KNeighborsClassifier(n_neighbors=5)\n",
        "knn.fit(X_train, y_train)\n",
        "y_pred = knn.predict(X_test)\n",
        "print(knn.score(X_train, y_train), knn.score(X_test, y_test))"
      ],
      "metadata": {
        "colab": {
          "base_uri": "https://localhost:8080/"
        },
        "id": "yuQitc-IT8mi",
        "outputId": "60bcb760-f9c1-453c-d57c-e48772fb12bf"
      },
      "execution_count": 16,
      "outputs": [
        {
          "output_type": "stream",
          "name": "stdout",
          "text": [
            "0.9833333333333333 0.9666666666666667\n"
          ]
        }
      ]
    },
    {
      "cell_type": "markdown",
      "source": [
        "  KNN classifier with n_neighbors=5 is performing very well on both the training and testing data.\n",
        "  \n",
        "  This suggests that the model is fitting the training data well and capturing the underlying patterns in the data."
      ],
      "metadata": {
        "id": "wCyhLLWnjuGA"
      }
    },
    {
      "cell_type": "code",
      "source": [
        "confusion_matrix(y_test, y_pred)"
      ],
      "metadata": {
        "colab": {
          "base_uri": "https://localhost:8080/"
        },
        "id": "b9IgO3wXUAIo",
        "outputId": "80b801b5-2716-4fb3-aa9f-d5e2cb5b77cc"
      },
      "execution_count": 17,
      "outputs": [
        {
          "output_type": "execute_result",
          "data": {
            "text/plain": [
              "array([[ 9,  0,  0],\n",
              "       [ 0, 10,  1],\n",
              "       [ 0,  0, 10]])"
            ]
          },
          "metadata": {},
          "execution_count": 17
        }
      ]
    },
    {
      "cell_type": "markdown",
      "source": [
        "Number of samples that were correctly predicted for each class are:\n",
        "\n",
        "Class 0: 9\n",
        "\n",
        "Class 1: 10\n",
        "\n",
        "Class 2: 10"
      ],
      "metadata": {
        "id": "AonK0VF6kPAI"
      }
    },
    {
      "cell_type": "code",
      "source": [
        "print(classification_report(y_test, y_pred))\n"
      ],
      "metadata": {
        "colab": {
          "base_uri": "https://localhost:8080/"
        },
        "id": "fFepxYtwUE2Z",
        "outputId": "8d264b4b-2852-4277-c7fb-a36d54d7d0c8"
      },
      "execution_count": 18,
      "outputs": [
        {
          "output_type": "stream",
          "name": "stdout",
          "text": [
            "              precision    recall  f1-score   support\n",
            "\n",
            "           0       1.00      1.00      1.00         9\n",
            "           1       1.00      0.91      0.95        11\n",
            "           2       0.91      1.00      0.95        10\n",
            "\n",
            "    accuracy                           0.97        30\n",
            "   macro avg       0.97      0.97      0.97        30\n",
            "weighted avg       0.97      0.97      0.97        30\n",
            "\n"
          ]
        }
      ]
    }
  ]
}
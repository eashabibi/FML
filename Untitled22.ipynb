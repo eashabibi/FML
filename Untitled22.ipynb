{
  "nbformat": 4,
  "nbformat_minor": 0,
  "metadata": {
    "colab": {
      "provenance": [],
      "authorship_tag": "ABX9TyOilskxFnVvLIq1vdCQhFOl",
      "include_colab_link": true
    },
    "kernelspec": {
      "name": "python3",
      "display_name": "Python 3"
    },
    "language_info": {
      "name": "python"
    }
  },
  "cells": [
    {
      "cell_type": "markdown",
      "metadata": {
        "id": "view-in-github",
        "colab_type": "text"
      },
      "source": [
        "<a href=\"https://colab.research.google.com/github/eashabibi/FML/blob/main/Untitled22.ipynb\" target=\"_parent\"><img src=\"https://colab.research.google.com/assets/colab-badge.svg\" alt=\"Open In Colab\"/></a>"
      ]
    },
    {
      "cell_type": "code",
      "execution_count": 7,
      "metadata": {
        "colab": {
          "base_uri": "https://localhost:8080/"
        },
        "id": "vmRzDMhuwH-3",
        "outputId": "76810c14-7b85-45ee-b001-d901e07497b7"
      },
      "outputs": [
        {
          "output_type": "stream",
          "name": "stdout",
          "text": [
            "Hello  good morning   how  are  u \n"
          ]
        }
      ],
      "source": [
        "pun = '''!()-[]{};:'\"\\,<>./?@#$%^&*_~'''\n",
        "My_syring = \"Hello !!!! good morning <> , how !! are () u ;\"\n",
        "sentence=\"\"\n",
        "for char in My_syring:\n",
        " if char not in pun:\n",
        "   sentence=sentence+char\n",
        "print(sentence)\n",
        "\n",
        "\n"
      ]
    }
  ]
}